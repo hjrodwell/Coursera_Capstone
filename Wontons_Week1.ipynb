{
 "cells": [
  {
   "cell_type": "markdown",
   "metadata": {},
   "source": [
    "# Capstone Project - The Battle of Neighborhoods "
   ]
  },
  {
   "cell_type": "markdown",
   "metadata": {},
   "source": [
    "## The Challenge"
   ]
  },
  {
   "cell_type": "markdown",
   "metadata": {},
   "source": [
    "A restaurant owner recently approached me with his idea to open a Chinese themed restaurant \"Wontons\" in London, England. London is known for its diversity and range of cultures with more than 300 languages spoken in the city. As a result of this diversity London already offers a great variety of cuisine.\n",
    "\n",
    "Of course, as a businessman he would like this idea to be as profitable as possible. So, through data science, he has asked me to try and help him decide where in London his restaurant should be located. His understanding of data is limited so my findings should be as palatable and easy to understand as possible."
   ]
  },
  {
   "cell_type": "markdown",
   "metadata": {},
   "source": [
    "In order for Wontons, or any restaurant, to be successful in such a competitive market like London we must consider the following questions;\n",
    "\n",
    "* <b>Will it get enough customers?</b>\n",
    "* <b>Is the location affordable?</b>\n",
    "* <b>Will it have competition?</b>\n",
    "\n",
    "Through careful analysis hopefully we can find a location that answers these questions and will maximise profits and minimise costs."
   ]
  },
  {
   "cell_type": "markdown",
   "metadata": {},
   "source": [
    "## The Data"
   ]
  },
  {
   "cell_type": "markdown",
   "metadata": {},
   "source": [
    "For this task I will need to utilise the following data resources;\n",
    "\n",
    "* <b> Wikipedia</b>\n",
    "\n",
    "    Areas of London: https://en.wikipedia.org/wiki/List_of_areas_of_London\n",
    "    \n",
    "    This data will help us segement the city and is vital for clustering analysis.\n",
    "    \n",
    "    Ethnic groups in London: https://en.wikipedia.org/wiki/Ethnic_groups_in_London\n",
    "    \n",
    "    This data will help us understand the ethnic populatution of London and will hopefully give us a good idea of where the restaurant will gain the most custom.\n",
    "    \n",
    "* <b> Property Data</b>\n",
    "\n",
    "    London Property Prices: https://propertydata.co.uk/cities/london\n",
    "    \n",
    "    This data will help us understand where the most, and least expensive, locations are to open a restaurant in London.\n",
    "    \n",
    "* <b> Foursquare</b>\n",
    "\n",
    "    Location data about London's existing restaurants and food venues will be used to help us understand how competitive the market is. "
   ]
  },
  {
   "cell_type": "code",
   "execution_count": null,
   "metadata": {},
   "outputs": [],
   "source": []
  }
 ],
 "metadata": {
  "kernelspec": {
   "display_name": "Python",
   "language": "python",
   "name": "conda-env-python-py"
  },
  "language_info": {
   "codemirror_mode": {
    "name": "ipython",
    "version": 3
   },
   "file_extension": ".py",
   "mimetype": "text/x-python",
   "name": "python",
   "nbconvert_exporter": "python",
   "pygments_lexer": "ipython3",
   "version": "3.6.7"
  }
 },
 "nbformat": 4,
 "nbformat_minor": 4
}
